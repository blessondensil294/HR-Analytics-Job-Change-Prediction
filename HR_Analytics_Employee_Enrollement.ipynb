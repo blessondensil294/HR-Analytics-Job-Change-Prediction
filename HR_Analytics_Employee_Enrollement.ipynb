{
  "nbformat": 4,
  "nbformat_minor": 0,
  "metadata": {
    "colab": {
      "name": "HR Analytics Employee Enrollement.ipynb",
      "provenance": [],
      "authorship_tag": "ABX9TyM0IMHpiYW0szIOUvoTPnb2",
      "include_colab_link": true
    },
    "kernelspec": {
      "name": "python3",
      "display_name": "Python 3"
    }
  },
  "cells": [
    {
      "cell_type": "markdown",
      "metadata": {
        "id": "view-in-github",
        "colab_type": "text"
      },
      "source": [
        "<a href=\"https://colab.research.google.com/github/blessondensil294/HR-Analytics-Job-Change-Prediction/blob/master/HR_Analytics_Employee_Enrollement.ipynb\" target=\"_parent\"><img src=\"https://colab.research.google.com/assets/colab-badge.svg\" alt=\"Open In Colab\"/></a>"
      ]
    },
    {
      "cell_type": "markdown",
      "metadata": {
        "id": "CzQKLWAamj8s",
        "colab_type": "text"
      },
      "source": [
        "# Janata Hack: HR Analytics Competition"
      ]
    },
    {
      "cell_type": "markdown",
      "metadata": {
        "id": "9oUBhyBnmrqd",
        "colab_type": "text"
      },
      "source": [
        "A training institute which conducts training for analytics/ data science wants to expand their business to manpower recruitment (data science only) as well. \n",
        " \n",
        "Company gets large number of signups for their trainings. Now, company wants to connect these enrollees with their clients who are looking to hire employees working in the same domain. Before that, it is important to know which of these candidates are really looking for a new employment. They have student information related to demographics, education, experience and features related to training as well.\n",
        " \n",
        "To understand the factors that lead a person to look for a job change, the agency wants you to design a model that uses the current credentials/demographics/experience to predict the probability of an enrollee to look for a new job."
      ]
    },
    {
      "cell_type": "markdown",
      "metadata": {
        "id": "qhvZ9D1XmzD-",
        "colab_type": "text"
      },
      "source": [
        "Data Dictionary \n",
        "Variable\n",
        "\n",
        "Description\n",
        "\n",
        "enrollee_id - Unique ID for enrollee\n",
        "\n",
        "city - City code\n",
        "\n",
        "city_development_index - Developement index of the city (scaled)\n",
        "\n",
        "gender - Gender\n",
        "\n",
        "relevent_experience - Relevent experience\n",
        "\n",
        "enrolled_university - Type of University course enrolled if any\n",
        "\n",
        "education_level - Education level\n",
        "\n",
        "major_discipline - Major discipline\n",
        "\n",
        "experience - Total experience in years\n",
        "\n",
        "company_size - No of employees in current employer's company\n",
        "\n",
        "company_type - Type of current employer\n",
        "\n",
        "last_new_job - Difference in years between previous job and current job\n",
        "\n",
        "training_hours - training hours completed\n",
        "\n",
        "target - 0 – Not looking for job change, 1 – Looking for a job change\n",
        "\n",
        " "
      ]
    },
    {
      "cell_type": "markdown",
      "metadata": {
        "id": "s4iXb-GxnLc1",
        "colab_type": "text"
      },
      "source": [
        "## Load the Data"
      ]
    },
    {
      "cell_type": "markdown",
      "metadata": {
        "id": "rnT-k3zMnPcz",
        "colab_type": "text"
      },
      "source": [
        "### From Github"
      ]
    },
    {
      "cell_type": "code",
      "metadata": {
        "id": "vp2hzzpxnSBM",
        "colab_type": "code",
        "colab": {}
      },
      "source": [
        "import numpy as np\n",
        "import pandas as pd\n",
        "df_Test_url = 'https://raw.githubusercontent.com/blessondensil294/HR-Analytics-Job-Change-Prediction/master/Data/test_KaymcHn.csv'\n",
        "df_Train_url = 'https://raw.githubusercontent.com/blessondensil294/HR-Analytics-Job-Change-Prediction/master/Data/train_jqd04QH.csv'\n",
        "df_Train = pd.read_csv(df_Train_url)\n",
        "df_Test = pd.read_csv(df_Test_url)"
      ],
      "execution_count": 0,
      "outputs": []
    },
    {
      "cell_type": "markdown",
      "metadata": {
        "id": "oIfuF-GAnmMG",
        "colab_type": "text"
      },
      "source": [
        "## Exploratory Data Analysis"
      ]
    },
    {
      "cell_type": "code",
      "metadata": {
        "id": "JWGSvTxXnjEa",
        "colab_type": "code",
        "colab": {
          "base_uri": "https://localhost:8080/",
          "height": 284
        },
        "outputId": "b3c82796-aecf-4e63-f4de-5d3cf46578bb"
      },
      "source": [
        "df_Train.head()"
      ],
      "execution_count": 2,
      "outputs": [
        {
          "output_type": "execute_result",
          "data": {
            "text/html": [
              "<div>\n",
              "<style scoped>\n",
              "    .dataframe tbody tr th:only-of-type {\n",
              "        vertical-align: middle;\n",
              "    }\n",
              "\n",
              "    .dataframe tbody tr th {\n",
              "        vertical-align: top;\n",
              "    }\n",
              "\n",
              "    .dataframe thead th {\n",
              "        text-align: right;\n",
              "    }\n",
              "</style>\n",
              "<table border=\"1\" class=\"dataframe\">\n",
              "  <thead>\n",
              "    <tr style=\"text-align: right;\">\n",
              "      <th></th>\n",
              "      <th>enrollee_id</th>\n",
              "      <th>city</th>\n",
              "      <th>city_development_index</th>\n",
              "      <th>gender</th>\n",
              "      <th>relevent_experience</th>\n",
              "      <th>enrolled_university</th>\n",
              "      <th>education_level</th>\n",
              "      <th>major_discipline</th>\n",
              "      <th>experience</th>\n",
              "      <th>company_size</th>\n",
              "      <th>company_type</th>\n",
              "      <th>last_new_job</th>\n",
              "      <th>training_hours</th>\n",
              "      <th>target</th>\n",
              "    </tr>\n",
              "  </thead>\n",
              "  <tbody>\n",
              "    <tr>\n",
              "      <th>0</th>\n",
              "      <td>23798</td>\n",
              "      <td>city_149</td>\n",
              "      <td>0.689</td>\n",
              "      <td>Male</td>\n",
              "      <td>Has relevent experience</td>\n",
              "      <td>no_enrollment</td>\n",
              "      <td>Graduate</td>\n",
              "      <td>STEM</td>\n",
              "      <td>3</td>\n",
              "      <td>100-500</td>\n",
              "      <td>Pvt Ltd</td>\n",
              "      <td>1</td>\n",
              "      <td>106</td>\n",
              "      <td>0</td>\n",
              "    </tr>\n",
              "    <tr>\n",
              "      <th>1</th>\n",
              "      <td>29166</td>\n",
              "      <td>city_83</td>\n",
              "      <td>0.923</td>\n",
              "      <td>Male</td>\n",
              "      <td>Has relevent experience</td>\n",
              "      <td>no_enrollment</td>\n",
              "      <td>Graduate</td>\n",
              "      <td>STEM</td>\n",
              "      <td>14</td>\n",
              "      <td>&lt;10</td>\n",
              "      <td>Funded Startup</td>\n",
              "      <td>1</td>\n",
              "      <td>69</td>\n",
              "      <td>0</td>\n",
              "    </tr>\n",
              "    <tr>\n",
              "      <th>2</th>\n",
              "      <td>46</td>\n",
              "      <td>city_16</td>\n",
              "      <td>0.910</td>\n",
              "      <td>NaN</td>\n",
              "      <td>Has relevent experience</td>\n",
              "      <td>no_enrollment</td>\n",
              "      <td>Graduate</td>\n",
              "      <td>STEM</td>\n",
              "      <td>6</td>\n",
              "      <td>50-99</td>\n",
              "      <td>Public Sector</td>\n",
              "      <td>2</td>\n",
              "      <td>4</td>\n",
              "      <td>0</td>\n",
              "    </tr>\n",
              "    <tr>\n",
              "      <th>3</th>\n",
              "      <td>18527</td>\n",
              "      <td>city_64</td>\n",
              "      <td>0.666</td>\n",
              "      <td>Male</td>\n",
              "      <td>Has relevent experience</td>\n",
              "      <td>no_enrollment</td>\n",
              "      <td>Graduate</td>\n",
              "      <td>STEM</td>\n",
              "      <td>14</td>\n",
              "      <td>50-99</td>\n",
              "      <td>Pvt Ltd</td>\n",
              "      <td>1</td>\n",
              "      <td>26</td>\n",
              "      <td>0</td>\n",
              "    </tr>\n",
              "    <tr>\n",
              "      <th>4</th>\n",
              "      <td>21751</td>\n",
              "      <td>city_100</td>\n",
              "      <td>0.887</td>\n",
              "      <td>NaN</td>\n",
              "      <td>No relevent experience</td>\n",
              "      <td>no_enrollment</td>\n",
              "      <td>Masters</td>\n",
              "      <td>STEM</td>\n",
              "      <td>8</td>\n",
              "      <td>NaN</td>\n",
              "      <td>NaN</td>\n",
              "      <td>2</td>\n",
              "      <td>88</td>\n",
              "      <td>1</td>\n",
              "    </tr>\n",
              "  </tbody>\n",
              "</table>\n",
              "</div>"
            ],
            "text/plain": [
              "   enrollee_id      city  ...  training_hours target\n",
              "0        23798  city_149  ...             106      0\n",
              "1        29166   city_83  ...              69      0\n",
              "2           46   city_16  ...               4      0\n",
              "3        18527   city_64  ...              26      0\n",
              "4        21751  city_100  ...              88      1\n",
              "\n",
              "[5 rows x 14 columns]"
            ]
          },
          "metadata": {
            "tags": []
          },
          "execution_count": 2
        }
      ]
    },
    {
      "cell_type": "code",
      "metadata": {
        "id": "ermfOhypnu5q",
        "colab_type": "code",
        "colab": {
          "base_uri": "https://localhost:8080/",
          "height": 287
        },
        "outputId": "f37b85df-bb29-4034-a9db-405a532a2820"
      },
      "source": [
        "df_Train.describe()"
      ],
      "execution_count": 4,
      "outputs": [
        {
          "output_type": "execute_result",
          "data": {
            "text/html": [
              "<div>\n",
              "<style scoped>\n",
              "    .dataframe tbody tr th:only-of-type {\n",
              "        vertical-align: middle;\n",
              "    }\n",
              "\n",
              "    .dataframe tbody tr th {\n",
              "        vertical-align: top;\n",
              "    }\n",
              "\n",
              "    .dataframe thead th {\n",
              "        text-align: right;\n",
              "    }\n",
              "</style>\n",
              "<table border=\"1\" class=\"dataframe\">\n",
              "  <thead>\n",
              "    <tr style=\"text-align: right;\">\n",
              "      <th></th>\n",
              "      <th>enrollee_id</th>\n",
              "      <th>city_development_index</th>\n",
              "      <th>training_hours</th>\n",
              "      <th>target</th>\n",
              "    </tr>\n",
              "  </thead>\n",
              "  <tbody>\n",
              "    <tr>\n",
              "      <th>count</th>\n",
              "      <td>18359.000000</td>\n",
              "      <td>18359.000000</td>\n",
              "      <td>18359.000000</td>\n",
              "      <td>18359.000000</td>\n",
              "    </tr>\n",
              "    <tr>\n",
              "      <th>mean</th>\n",
              "      <td>16729.360096</td>\n",
              "      <td>0.847140</td>\n",
              "      <td>65.899014</td>\n",
              "      <td>0.132088</td>\n",
              "    </tr>\n",
              "    <tr>\n",
              "      <th>std</th>\n",
              "      <td>9643.749725</td>\n",
              "      <td>0.110189</td>\n",
              "      <td>60.885300</td>\n",
              "      <td>0.338595</td>\n",
              "    </tr>\n",
              "    <tr>\n",
              "      <th>min</th>\n",
              "      <td>1.000000</td>\n",
              "      <td>0.448000</td>\n",
              "      <td>1.000000</td>\n",
              "      <td>0.000000</td>\n",
              "    </tr>\n",
              "    <tr>\n",
              "      <th>25%</th>\n",
              "      <td>8378.500000</td>\n",
              "      <td>0.796000</td>\n",
              "      <td>23.000000</td>\n",
              "      <td>0.000000</td>\n",
              "    </tr>\n",
              "    <tr>\n",
              "      <th>50%</th>\n",
              "      <td>16706.000000</td>\n",
              "      <td>0.910000</td>\n",
              "      <td>47.000000</td>\n",
              "      <td>0.000000</td>\n",
              "    </tr>\n",
              "    <tr>\n",
              "      <th>75%</th>\n",
              "      <td>25148.500000</td>\n",
              "      <td>0.920000</td>\n",
              "      <td>89.000000</td>\n",
              "      <td>0.000000</td>\n",
              "    </tr>\n",
              "    <tr>\n",
              "      <th>max</th>\n",
              "      <td>33380.000000</td>\n",
              "      <td>0.949000</td>\n",
              "      <td>336.000000</td>\n",
              "      <td>1.000000</td>\n",
              "    </tr>\n",
              "  </tbody>\n",
              "</table>\n",
              "</div>"
            ],
            "text/plain": [
              "        enrollee_id  city_development_index  training_hours        target\n",
              "count  18359.000000            18359.000000    18359.000000  18359.000000\n",
              "mean   16729.360096                0.847140       65.899014      0.132088\n",
              "std     9643.749725                0.110189       60.885300      0.338595\n",
              "min        1.000000                0.448000        1.000000      0.000000\n",
              "25%     8378.500000                0.796000       23.000000      0.000000\n",
              "50%    16706.000000                0.910000       47.000000      0.000000\n",
              "75%    25148.500000                0.920000       89.000000      0.000000\n",
              "max    33380.000000                0.949000      336.000000      1.000000"
            ]
          },
          "metadata": {
            "tags": []
          },
          "execution_count": 4
        }
      ]
    },
    {
      "cell_type": "code",
      "metadata": {
        "id": "tRyEmQ0YqWwc",
        "colab_type": "code",
        "colab": {
          "base_uri": "https://localhost:8080/",
          "height": 100
        },
        "outputId": "a137ea90-6d00-42fd-bdb8-26d32713eab4"
      },
      "source": [
        "df_Train.columns"
      ],
      "execution_count": 5,
      "outputs": [
        {
          "output_type": "execute_result",
          "data": {
            "text/plain": [
              "Index(['enrollee_id', 'city', 'city_development_index', 'gender',\n",
              "       'relevent_experience', 'enrolled_university', 'education_level',\n",
              "       'major_discipline', 'experience', 'company_size', 'company_type',\n",
              "       'last_new_job', 'training_hours', 'target'],\n",
              "      dtype='object')"
            ]
          },
          "metadata": {
            "tags": []
          },
          "execution_count": 5
        }
      ]
    },
    {
      "cell_type": "code",
      "metadata": {
        "id": "XPmQDi1ls2o7",
        "colab_type": "code",
        "colab": {
          "base_uri": "https://localhost:8080/",
          "height": 33
        },
        "outputId": "caccc0cb-64f3-4943-f6b3-f63582626c35"
      },
      "source": [
        "df_Train.shape"
      ],
      "execution_count": 8,
      "outputs": [
        {
          "output_type": "execute_result",
          "data": {
            "text/plain": [
              "(18359, 14)"
            ]
          },
          "metadata": {
            "tags": []
          },
          "execution_count": 8
        }
      ]
    },
    {
      "cell_type": "code",
      "metadata": {
        "id": "R1Sj8bONqg5c",
        "colab_type": "code",
        "colab": {
          "base_uri": "https://localhost:8080/",
          "height": 367
        },
        "outputId": "1af0e9c6-d4ec-48fc-cf2c-44ed30d30e68"
      },
      "source": [
        "df_Train.info()"
      ],
      "execution_count": 6,
      "outputs": [
        {
          "output_type": "stream",
          "text": [
            "<class 'pandas.core.frame.DataFrame'>\n",
            "RangeIndex: 18359 entries, 0 to 18358\n",
            "Data columns (total 14 columns):\n",
            " #   Column                  Non-Null Count  Dtype  \n",
            "---  ------                  --------------  -----  \n",
            " 0   enrollee_id             18359 non-null  int64  \n",
            " 1   city                    18359 non-null  object \n",
            " 2   city_development_index  18359 non-null  float64\n",
            " 3   gender                  14261 non-null  object \n",
            " 4   relevent_experience     18359 non-null  object \n",
            " 5   enrolled_university     18017 non-null  object \n",
            " 6   education_level         17902 non-null  object \n",
            " 7   major_discipline        15521 non-null  object \n",
            " 8   experience              18300 non-null  object \n",
            " 9   company_size            13580 non-null  object \n",
            " 10  company_type            13320 non-null  object \n",
            " 11  last_new_job            17992 non-null  object \n",
            " 12  training_hours          18359 non-null  int64  \n",
            " 13  target                  18359 non-null  int64  \n",
            "dtypes: float64(1), int64(3), object(10)\n",
            "memory usage: 2.0+ MB\n"
          ],
          "name": "stdout"
        }
      ]
    },
    {
      "cell_type": "code",
      "metadata": {
        "id": "BXoGsLERqjqV",
        "colab_type": "code",
        "colab": {
          "base_uri": "https://localhost:8080/",
          "height": 267
        },
        "outputId": "3db58ff9-7c44-457c-d251-7b8688ff0c03"
      },
      "source": [
        "df_Train.isnull().sum()"
      ],
      "execution_count": 7,
      "outputs": [
        {
          "output_type": "execute_result",
          "data": {
            "text/plain": [
              "enrollee_id                  0\n",
              "city                         0\n",
              "city_development_index       0\n",
              "gender                    4098\n",
              "relevent_experience          0\n",
              "enrolled_university        342\n",
              "education_level            457\n",
              "major_discipline          2838\n",
              "experience                  59\n",
              "company_size              4779\n",
              "company_type              5039\n",
              "last_new_job               367\n",
              "training_hours               0\n",
              "target                       0\n",
              "dtype: int64"
            ]
          },
          "metadata": {
            "tags": []
          },
          "execution_count": 7
        }
      ]
    },
    {
      "cell_type": "code",
      "metadata": {
        "id": "ChBjGvYus0aW",
        "colab_type": "code",
        "colab": {}
      },
      "source": [
        ""
      ],
      "execution_count": 0,
      "outputs": []
    },
    {
      "cell_type": "markdown",
      "metadata": {
        "id": "mfbudbLRthIA",
        "colab_type": "text"
      },
      "source": [
        "# Feature Engineering"
      ]
    },
    {
      "cell_type": "markdown",
      "metadata": {
        "id": "1xpkmOjEto9g",
        "colab_type": "text"
      },
      "source": [
        "### Fill Missing Values"
      ]
    },
    {
      "cell_type": "code",
      "metadata": {
        "id": "N2UYc9DQtnRg",
        "colab_type": "code",
        "colab": {}
      },
      "source": [
        ""
      ],
      "execution_count": 0,
      "outputs": []
    }
  ]
}